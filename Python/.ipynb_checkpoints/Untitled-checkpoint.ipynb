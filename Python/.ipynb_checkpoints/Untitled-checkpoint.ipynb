{
 "cells": [
  {
   "cell_type": "code",
   "execution_count": 13,
   "id": "9fb6664b",
   "metadata": {},
   "outputs": [
    {
     "ename": "TypeError",
     "evalue": "'list' object cannot be interpreted as an integer",
     "output_type": "error",
     "traceback": [
      "\u001b[0;31m---------------------------------------------------------------------------\u001b[0m",
      "\u001b[0;31mTypeError\u001b[0m                                 Traceback (most recent call last)",
      "\u001b[0;32m/tmp/ipykernel_17563/2634056818.py\u001b[0m in \u001b[0;36m<module>\u001b[0;34m\u001b[0m\n\u001b[1;32m     10\u001b[0m \u001b[0mint1\u001b[0m \u001b[0;34m=\u001b[0m \u001b[0;36m2\u001b[0m\u001b[0;34m\u001b[0m\u001b[0;34m\u001b[0m\u001b[0m\n\u001b[1;32m     11\u001b[0m \u001b[0mperson\u001b[0m \u001b[0;34m=\u001b[0m \u001b[0mPerson\u001b[0m\u001b[0;34m(\u001b[0m\u001b[0mlist1\u001b[0m\u001b[0;34m,\u001b[0m \u001b[0mlist2\u001b[0m\u001b[0;34m,\u001b[0m \u001b[0mint1\u001b[0m\u001b[0;34m)\u001b[0m\u001b[0;34m\u001b[0m\u001b[0;34m\u001b[0m\u001b[0m\n\u001b[0;32m---> 12\u001b[0;31m \u001b[0mlen1\u001b[0m \u001b[0;34m=\u001b[0m \u001b[0mlen\u001b[0m\u001b[0;34m(\u001b[0m\u001b[0mperson\u001b[0m\u001b[0;34m)\u001b[0m\u001b[0;34m\u001b[0m\u001b[0;34m\u001b[0m\u001b[0m\n\u001b[0m\u001b[1;32m     13\u001b[0m \u001b[0mprint\u001b[0m\u001b[0;34m(\u001b[0m\u001b[0mlen1\u001b[0m\u001b[0;34m)\u001b[0m\u001b[0;34m\u001b[0m\u001b[0;34m\u001b[0m\u001b[0m\n",
      "\u001b[0;31mTypeError\u001b[0m: 'list' object cannot be interpreted as an integer"
     ]
    }
   ],
   "source": [
    "class Person(object):\n",
    "    def __init__(self, pList1, pList2, pInt):\n",
    "        self.pList1 = pList1\n",
    "        self.pList2 = pList2\n",
    "        self.pInt = pInt\n",
    "    def __len__(self):\n",
    "        return [len(self.pList1), len(self.pList2)]\n",
    "list1 = [1,2,3,4]\n",
    "list2 = [1,2,3,4,5]\n",
    "int1 = 2\n",
    "person = Person(list1, list2, int1)\n",
    "len1 = len(person)\n",
    "print(len1)"
   ]
  },
  {
   "cell_type": "code",
   "execution_count": 16,
   "id": "725bb0df",
   "metadata": {},
   "outputs": [
    {
     "ename": "TypeError",
     "evalue": "Can't instantiate abstract class Database with abstract methods execute, query",
     "output_type": "error",
     "traceback": [
      "\u001b[0;31m---------------------------------------------------------------------------\u001b[0m",
      "\u001b[0;31mTypeError\u001b[0m                                 Traceback (most recent call last)",
      "\u001b[0;32m/tmp/ipykernel_17563/2266832858.py\u001b[0m in \u001b[0;36m<module>\u001b[0;34m\u001b[0m\n\u001b[1;32m     21\u001b[0m         \u001b[0m执行SQL语句\u001b[0m\u001b[0;34m\u001b[0m\u001b[0;34m\u001b[0m\u001b[0m\n\u001b[1;32m     22\u001b[0m         \"\"\"\n\u001b[0;32m---> 23\u001b[0;31m \u001b[0md\u001b[0m \u001b[0;34m=\u001b[0m \u001b[0mDatabase\u001b[0m\u001b[0;34m(\u001b[0m\u001b[0;34m)\u001b[0m\u001b[0;34m\u001b[0m\u001b[0;34m\u001b[0m\u001b[0m\n\u001b[0m",
      "\u001b[0;31mTypeError\u001b[0m: Can't instantiate abstract class Database with abstract methods execute, query"
     ]
    }
   ],
   "source": [
    "from abc import ABC\n",
    "from abc import abstractmethod\n",
    "\n",
    "class Database(ABC):\n",
    "    def register(self, host, user, password):\n",
    "        print(\"Host : {}\".format(host))\n",
    "        print(\"User : {}\".format(user))\n",
    "        print(\"Password : {}\".format(password))\n",
    "        print(\"Register Success!\")\n",
    "\n",
    "    @abstractmethod\n",
    "    def query(self, *args):\n",
    "        \"\"\"\n",
    "        传入查询数据的SQL语句并执行\n",
    "        \"\"\"\n",
    "\n",
    "    @staticmethod\n",
    "    @abstractmethod\n",
    "    def execute(sql_string):\n",
    "        \"\"\"\n",
    "        执行SQL语句\n",
    "        \"\"\"\n",
    "d = Database()"
   ]
  },
  {
   "cell_type": "code",
   "execution_count": 1,
   "id": "9da33d9e",
   "metadata": {},
   "outputs": [
    {
     "name": "stdout",
     "output_type": "stream",
     "text": [
      "2\n",
      "180\n",
      "{'n': 3, 'b': 4, 'num': 4}\n",
      "{'__module__': '__main__', 'num': 3, 'slots': ['age'], '__init__': <function myClass.__init__ at 0x7f5e504eb6a8>, 'fun1': <function myClass.fun1 at 0x7f5e504eb510>, '__dict__': <attribute '__dict__' of 'myClass' objects>, '__weakref__': <attribute '__weakref__' of 'myClass' objects>, '__doc__': None}\n",
      "3\n",
      "{'n': 4, 'b': 4, 'num': 4}\n",
      "4\n"
     ]
    }
   ],
   "source": [
    "class myClass(object):\n",
    "    num = 2\n",
    "    slots = ['age']\n",
    "    def __init__(self, n, b):\n",
    "        self.n = n\n",
    "        self.b = b\n",
    "    def fun1(self, n):\n",
    "        return myClass.num * self.n * self.b * n\n",
    "c = myClass(3,4)\n",
    "# c.num = 1\n",
    "# myClass.__dict__[\"num\"] = 4\n",
    "print(myClass.__dict__['num'])\n",
    "myClass.num = 3\n",
    "print(c.fun1(5))\n",
    "c.num=4\n",
    "# print(c.num)\n",
    "print(c.__dict__)\n",
    "print(myClass.__dict__)\n",
    "# myClass.__dict__['num'] = 4\n",
    "print(myClass.__dict__[\"num\"])\n",
    "c.__dict__['n'] = 4\n",
    "print(c.__dict__)\n",
    "# print(c.__dict__['num'] )\n",
    "print(c.num)\n",
    "myClass.fun"
   ]
  },
  {
   "cell_type": "code",
   "execution_count": 11,
   "id": "d96ddb75",
   "metadata": {},
   "outputs": [
    {
     "name": "stdout",
     "output_type": "stream",
     "text": [
      "140621129725880\n",
      "140621129725824\n",
      "140621273858824 9075200\n",
      "140621273858824 9075200\n",
      "9074944 9074944\n"
     ]
    }
   ],
   "source": [
    "class myclass(object):\n",
    "    def __init__(self, name, i):\n",
    "        self.name = name\n",
    "        self.i = i \n",
    "m = myclass(\"li\", 10)\n",
    "m2 = myclass(\"li\", 10)\n",
    "print(id(m))\n",
    "print(id(m2))\n",
    "print(id(m.name), id(m.i))\n",
    "print(id(m2.name), id(m2.i))\n",
    "m.int2 = 2\n",
    "m2.int3 = 2\n",
    "print(id(m.int2), id(m2.int3))\n"
   ]
  },
  {
   "cell_type": "code",
   "execution_count": 2,
   "id": "27d7c1a0",
   "metadata": {},
   "outputs": [
    {
     "ename": "TypeError",
     "evalue": "__init__() missing 2 required positional arguments: 'n' and 'm'",
     "output_type": "error",
     "traceback": [
      "\u001b[0;31m---------------------------------------------------------------------------\u001b[0m",
      "\u001b[0;31mTypeError\u001b[0m                                 Traceback (most recent call last)",
      "\u001b[0;32m/tmp/ipykernel_223054/1572196667.py\u001b[0m in \u001b[0;36m<module>\u001b[0;34m\u001b[0m\n\u001b[1;32m      9\u001b[0m     \u001b[0;32mdef\u001b[0m \u001b[0mfunc2\u001b[0m\u001b[0;34m(\u001b[0m\u001b[0mself\u001b[0m\u001b[0;34m)\u001b[0m\u001b[0;34m:\u001b[0m\u001b[0;34m\u001b[0m\u001b[0;34m\u001b[0m\u001b[0m\n\u001b[1;32m     10\u001b[0m         \u001b[0mprint\u001b[0m\u001b[0;34m(\u001b[0m\u001b[0;34m\"func2\"\u001b[0m\u001b[0;34m)\u001b[0m\u001b[0;34m\u001b[0m\u001b[0;34m\u001b[0m\u001b[0m\n\u001b[0;32m---> 11\u001b[0;31m \u001b[0mc\u001b[0m \u001b[0;34m=\u001b[0m \u001b[0mChild\u001b[0m\u001b[0;34m(\u001b[0m\u001b[0;34m)\u001b[0m\u001b[0;34m\u001b[0m\u001b[0;34m\u001b[0m\u001b[0m\n\u001b[0m\u001b[1;32m     12\u001b[0m \u001b[0mc\u001b[0m\u001b[0;34m.\u001b[0m\u001b[0mfunc2\u001b[0m\u001b[0;34m(\u001b[0m\u001b[0;34m)\u001b[0m\u001b[0;34m\u001b[0m\u001b[0;34m\u001b[0m\u001b[0m\n",
      "\u001b[0;31mTypeError\u001b[0m: __init__() missing 2 required positional arguments: 'n' and 'm'"
     ]
    }
   ],
   "source": [
    "class Base(object):\n",
    "    def __init__ (self, n, m):\n",
    "        self.n = n \n",
    "        self.m = m \n",
    "        print(\"base父类的初始化属性\")\n",
    "    def func1(self):\n",
    "        print(\"func1()\")\n",
    "class Child(Base):\n",
    "    def func2(self):\n",
    "        print(\"func2\")\n",
    "c = Child()\n",
    "c.func2()"
   ]
  },
  {
   "cell_type": "code",
   "execution_count": null,
   "id": "c95433cf",
   "metadata": {},
   "outputs": [],
   "source": [
    "# 实例方法、类方法、静态方法\n",
    "class Book(object):\n",
    "\n",
    "    def __init__(self, title):\n",
    "        self.title = title\n",
    "\n",
    "    @classmethod\n",
    "    def create(cls, title):\n",
    "        book = cls(title)\n",
    "        return book\n",
    "\n",
    "book1 = Book(\"python\")\n",
    "book2 = Book.create(\"python and django\")\n",
    "print(book1.title)\n",
    "print(book2.title)"
   ]
  }
 ],
 "metadata": {
  "interpreter": {
   "hash": "916dbcbb3f70747c44a77c7bcd40155683ae19c65e1c03b4aa3499c5328201f1"
  },
  "kernelspec": {
   "display_name": "Python 3 (ipykernel)",
   "language": "python",
   "name": "python3"
  },
  "language_info": {
   "codemirror_mode": {
    "name": "ipython",
    "version": 3
   },
   "file_extension": ".py",
   "mimetype": "text/x-python",
   "name": "python",
   "nbconvert_exporter": "python",
   "pygments_lexer": "ipython3",
   "version": "3.7.3"
  }
 },
 "nbformat": 4,
 "nbformat_minor": 5
}
